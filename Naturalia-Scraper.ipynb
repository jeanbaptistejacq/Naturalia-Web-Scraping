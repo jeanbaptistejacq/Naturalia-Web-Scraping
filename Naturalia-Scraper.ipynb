{
 "cells": [
  {
   "cell_type": "code",
   "execution_count": 1,
   "metadata": {},
   "outputs": [],
   "source": [
    "# import libraries \n",
    "\n",
    "from bs4 import BeautifulSoup\n",
    "import requests\n",
    "import time\n",
    "import datetime\n",
    "\n",
    "import smtplib\n"
   ]
  },
  {
   "cell_type": "code",
   "execution_count": 2,
   "metadata": {},
   "outputs": [
    {
     "name": "stdout",
     "output_type": "stream",
     "text": [
      "\n",
      "            Montcalm Eau Minérale Naturelle 5L\n",
      "           \n",
      "\n",
      "             2,55 €\n",
      "            \n"
     ]
    }
   ],
   "source": [
    "# Connect to Website and pull in data\n",
    "\n",
    "URL = 'https://bio.naturalia.fr/products/MPX_2138023/details'\n",
    "\n",
    "headers = {\"User-Agent\": \"Mozilla/5.0 (Windows NT 10.0; Win64; x64) AppleWebKit/537.36 (KHTML, like Gecko) Chrome/124.0.0.0 Safari/537.36 \", \"Accept-Encoding\":\"gzip, deflate\", \"Accept\":\"text/html,application/xhtml+xml,application/xml;q=0.9,*/*;q=0.8\", \"DNT\":\"1\",\"Connection\":\"close\", \"Upgrade-Insecure-Requests\":\"1\"}\n",
    "\n",
    "page = requests.get(URL, headers=headers)\n",
    "\n",
    "soup1 = BeautifulSoup(page.content, \"html.parser\")\n",
    "\n",
    "soup2 = BeautifulSoup(soup1.prettify(), \"html.parser\")\n",
    "\n",
    "\n",
    "titre_produit = soup2.find(\"h1\", class_=\"_display_1e1p0_1 _display--m_1e1p0_10 heading__Heading-sc-q2s63n-0 UgFKl\").text\n",
    "prix_produit = soup2.find(\"div\", {\"data-test\": \"price-container\"}).find(\"span\", class_=\"_text_f6lbl_1 _text--bold_f6lbl_7 _text--xl_f6lbl_31 price__StyledText-sc-1om5bl6-0 kWSoGn\").text\n",
    "\n",
    "\n",
    "\n",
    "print(titre_produit)\n",
    "print(prix_produit)\n",
    "\n",
    "\n"
   ]
  },
  {
   "cell_type": "code",
   "execution_count": 3,
   "metadata": {},
   "outputs": [
    {
     "name": "stdout",
     "output_type": "stream",
     "text": [
      "Montcalm Eau Minérale Naturelle 5L\n",
      "2,55\n"
     ]
    }
   ],
   "source": [
    "# Clean up data\n",
    "\n",
    "prix = prix_produit.strip().split()[0]\n",
    "titre = titre_produit.strip()\n",
    "\n",
    "print(titre)\n",
    "print(prix)"
   ]
  },
  {
   "cell_type": "code",
   "execution_count": 4,
   "metadata": {},
   "outputs": [
    {
     "name": "stdout",
     "output_type": "stream",
     "text": [
      "2024-05-15\n"
     ]
    }
   ],
   "source": [
    "# Create a Timestamp for your output to track when data was collected\n",
    "\n",
    "import datetime\n",
    "\n",
    "today = datetime.date.today()\n",
    "\n",
    "print(today)\n"
   ]
  },
  {
   "cell_type": "code",
   "execution_count": 10,
   "metadata": {},
   "outputs": [],
   "source": [
    "import os\n",
    "import csv\n",
    "\n",
    "# Chemin complet du dossier Scrapping à l'intérieur du dossier PF-Website sur le bureau\n",
    "chemin_dossier_scrapping = os.path.join(os.path.join(os.environ['USERPROFILE']), 'Desktop', 'PF-Website', 'Scrapping')\n",
    "\n",
    "# Assurez-vous que le dossier Scrapping existe, sinon créez-le\n",
    "if not os.path.exists(chemin_dossier_scrapping):\n",
    "    os.makedirs(chemin_dossier_scrapping)\n",
    "\n",
    "# Chemin complet du fichier CSV dans le dossier Scrapping\n",
    "chemin_fichier_csv = os.path.join(chemin_dossier_scrapping, 'NaturaliaScraperDataset.csv')\n",
    "\n",
    "header = ['Title', 'Price', 'Date']\n",
    "data = [titre, prix, today]\n",
    "\n",
    "# Créer le fichier CSV et écrire les en-têtes et les données dans le fichier\n",
    "\n",
    "#commenté pour éviter d'effacer les données à chaque fois\n",
    "\n",
    "#with open(chemin_fichier_csv, 'w', newline='', encoding='UTF8') as f:\n",
    "#    writer = csv.writer(f)\n",
    "#    writer.writerow(header)\n",
    "#    writer.writerow(data)"
   ]
  },
  {
   "cell_type": "code",
   "execution_count": 12,
   "metadata": {},
   "outputs": [
    {
     "name": "stdout",
     "output_type": "stream",
     "text": [
      "                                Title Price        Date\n",
      "0  Montcalm Eau Minérale Naturelle 5L  2,55  2024-05-15\n",
      "1  Montcalm Eau Minérale Naturelle 5L  2,55  2024-05-15\n",
      "2  Montcalm Eau Minérale Naturelle 5L  2,55  2024-05-15\n"
     ]
    }
   ],
   "source": [
    "import pandas as pd\n",
    "\n",
    "df = pd.read_csv(r\"C:\\Users\\jeanb\\Desktop\\PF-Website\\Scrapping\\NaturaliaScraperDataset.csv\")\n",
    "\n",
    "print(df)\n",
    "\n"
   ]
  },
  {
   "cell_type": "code",
   "execution_count": 11,
   "metadata": {},
   "outputs": [],
   "source": [
    "# Chemin complet du dossier Scrapping à l'intérieur du dossier PF-Website sur le bureau\n",
    "chemin_dossier_scrapping = os.path.join(os.path.join(os.environ['USERPROFILE']), 'Desktop', 'PF-Website', 'Scrapping')\n",
    "\n",
    "# Chemin complet du fichier CSV dans le dossier Scrapping\n",
    "chemin_fichier_csv = os.path.join(chemin_dossier_scrapping, 'NaturaliaScraperDataset.csv')\n",
    "\n",
    "# Données à ajouter au fichier CSV\n",
    "data = [titre, prix, today]\n",
    "\n",
    "# Ajouter les données au fichier CSV\n",
    "with open(chemin_fichier_csv, 'a+', newline='', encoding='UTF8') as f:\n",
    "    writer = csv.writer(f)\n",
    "    writer.writerow(data)"
   ]
  },
  {
   "cell_type": "code",
   "execution_count": 12,
   "metadata": {},
   "outputs": [],
   "source": [
    "#Combine all of the above code into one function\n",
    "\n",
    "\n",
    "def check_price():\n",
    "    URL = 'https://bio.naturalia.fr/products/MPX_2138023/details'\n",
    "\n",
    "    headers = {\"User-Agent\": \"Mozilla/5.0 (Windows NT 10.0; Win64; x64) AppleWebKit/537.36 (KHTML, like Gecko) Chrome/124.0.0.0 Safari/537.36 \", \"Accept-Encoding\":\"gzip, deflate\", \"Accept\":\"text/html,application/xhtml+xml,application/xml;q=0.9,*/*;q=0.8\", \"DNT\":\"1\",\"Connection\":\"close\", \"Upgrade-Insecure-Requests\":\"1\"}\n",
    "\n",
    "    page = requests.get(URL, headers=headers)\n",
    "\n",
    "    soup1 = BeautifulSoup(page.content, \"html.parser\")\n",
    "\n",
    "    soup2 = BeautifulSoup(soup1.prettify(), \"html.parser\")\n",
    "\n",
    "    titre_produit = soup2.find(\"h1\", class_=\"_display_1e1p0_1 _display--m_1e1p0_10 heading__Heading-sc-q2s63n-0 UgFKl\").text\n",
    "    \n",
    "    prix_produit = soup2.find(\"div\", {\"data-test\": \"price-container\"}).find(\"span\", class_=\"_text_f6lbl_1 _text--bold_f6lbl_7 _text--xl_f6lbl_31 price__StyledText-sc-1om5bl6-0 kWSoGn\").text\n",
    "\n",
    "\n",
    "    prix = prix_produit.strip().split()[0]\n",
    "    \n",
    "    titre = titre_produit.strip()\n",
    "\n",
    "    import datetime\n",
    "\n",
    "    today = datetime.date.today()\n",
    "    \n",
    "    import csv \n",
    "\n",
    "    header = ['Title', 'Price', 'Date']\n",
    "    data = [titre, prix, today]\n",
    "    \n",
    "    # Chemin complet du dossier Scrapping à l'intérieur du dossier PF-Website sur le bureau\n",
    "    chemin_dossier_scrapping = os.path.join(os.path.join(os.environ['USERPROFILE']), 'Desktop', 'PF-Website', 'Scrapping')\n",
    "\n",
    "    # Chemin complet du fichier CSV dans le dossier Scrapping\n",
    "    chemin_fichier_csv = os.path.join(chemin_dossier_scrapping, 'NaturaliaScraperDataset.csv')\n",
    "\n",
    "\n",
    "    with open(chemin_fichier_csv, 'a+', newline='', encoding='UTF8') as f:\n",
    "        writer = csv.writer(f)\n",
    "        writer.writerow(data)\n",
    "        \n",
    "    if(prix<2):\n",
    "        send_mail()\n",
    " \n",
    "    "
   ]
  },
  {
   "cell_type": "code",
   "execution_count": 10,
   "metadata": {},
   "outputs": [
    {
     "ename": "KeyboardInterrupt",
     "evalue": "",
     "output_type": "error",
     "traceback": [
      "\u001b[1;31m---------------------------------------------------------------------------\u001b[0m",
      "\u001b[1;31mKeyboardInterrupt\u001b[0m                         Traceback (most recent call last)",
      "\u001b[1;32m<ipython-input-10-614e257548d9>\u001b[0m in \u001b[0;36m<module>\u001b[1;34m\u001b[0m\n\u001b[0;32m      3\u001b[0m \u001b[1;32mwhile\u001b[0m\u001b[1;33m(\u001b[0m\u001b[1;32mTrue\u001b[0m\u001b[1;33m)\u001b[0m\u001b[1;33m:\u001b[0m\u001b[1;33m\u001b[0m\u001b[1;33m\u001b[0m\u001b[0m\n\u001b[0;32m      4\u001b[0m     \u001b[0mcheck_price\u001b[0m\u001b[1;33m(\u001b[0m\u001b[1;33m)\u001b[0m\u001b[1;33m\u001b[0m\u001b[1;33m\u001b[0m\u001b[0m\n\u001b[1;32m----> 5\u001b[1;33m     \u001b[0mtime\u001b[0m\u001b[1;33m.\u001b[0m\u001b[0msleep\u001b[0m\u001b[1;33m(\u001b[0m\u001b[1;36m2\u001b[0m\u001b[1;33m)\u001b[0m\u001b[1;33m\u001b[0m\u001b[1;33m\u001b[0m\u001b[0m\n\u001b[0m",
      "\u001b[1;31mKeyboardInterrupt\u001b[0m: "
     ]
    }
   ],
   "source": [
    "# Runs check_price after a set time and inputs data into your CSV\n",
    "\n",
    "while(True):\n",
    "    check_price()\n",
    "    time.sleep(86400)"
   ]
  },
  {
   "cell_type": "code",
   "execution_count": 13,
   "metadata": {},
   "outputs": [
    {
     "name": "stdout",
     "output_type": "stream",
     "text": [
      "                                Title Price        Date\n",
      "0  Montcalm Eau Minérale Naturelle 5L  2,55  2024-05-15\n",
      "1  Montcalm Eau Minérale Naturelle 5L  2,55  2024-05-15\n",
      "2  Montcalm Eau Minérale Naturelle 5L  2,55  2024-05-15\n"
     ]
    }
   ],
   "source": [
    "import pandas as pd\n",
    "\n",
    "df = pd.read_csv(r\"C:\\Users\\jeanb\\Desktop\\PF-Website\\Scrapping\\NaturaliaScraperDataset.csv\")\n",
    "\n",
    "print(df)"
   ]
  },
  {
   "cell_type": "code",
   "execution_count": 14,
   "metadata": {},
   "outputs": [],
   "source": [
    "# sending yourself an email when the price hits below a certain level\n",
    "\n",
    "def send_mail():\n",
    "    server = smtplib.SMTP_SSL('smtp.gmail.com',465)\n",
    "    server.ehlo()\n",
    "    #server.starttls()\n",
    "    server.ehlo()\n",
    "    server.login('jeanbaptiste.jacq@gmail.com','xxxxxxxxxxxxxx')\n",
    "    \n",
    "    subject = \"The Bottle of water you want is below 2€!\"\n",
    "    body = \"Just buy it! Link here: https://bio.naturalia.fr/products/MPX_2138023/details\"\n",
    "   \n",
    "    msg = f\"Subject: {subject}\\n\\n{body}\"\n",
    "    \n",
    "    server.sendmail(\n",
    "        'jeanbaptiste.jacq@gmail.com',\n",
    "        msg\n",
    "     \n",
    "    )"
   ]
  },
  {
   "cell_type": "code",
   "execution_count": null,
   "metadata": {},
   "outputs": [],
   "source": []
  }
 ],
 "metadata": {
  "kernelspec": {
   "display_name": "Python 3",
   "language": "python",
   "name": "python3"
  },
  "language_info": {
   "codemirror_mode": {
    "name": "ipython",
    "version": 3
   },
   "file_extension": ".py",
   "mimetype": "text/x-python",
   "name": "python",
   "nbconvert_exporter": "python",
   "pygments_lexer": "ipython3",
   "version": "3.8.3"
  }
 },
 "nbformat": 4,
 "nbformat_minor": 5
}
